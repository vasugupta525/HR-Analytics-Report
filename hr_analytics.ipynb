{
 "cells": [
  {
   "cell_type": "markdown",
   "id": "76b50784",
   "metadata": {},
   "source": [
    "# <center>HR Analytics and EDA</center>\n",
    "\n",
    "<img src=\"https://netchex.com/wp-content/uploads/2022/12/HR-Analytics-768x512.png\" \n",
    "     width=\"500\" \n",
    "     height=\"300\" />"
   ]
  },
  {
   "cell_type": "code",
   "execution_count": 19,
   "id": "a4f8a385",
   "metadata": {},
   "outputs": [],
   "source": [
    "import numpy as np\n",
    "import pandas as pd\n",
    "import matplotlib.pyplot as plt\n",
    "import seaborn as sns"
   ]
  },
  {
   "cell_type": "code",
   "execution_count": 20,
   "id": "81ed3a72",
   "metadata": {},
   "outputs": [],
   "source": [
    "df = pd.read_csv('hr_analytics_dataset.csv')"
   ]
  },
  {
   "cell_type": "code",
   "execution_count": 21,
   "id": "15d554c4",
   "metadata": {},
   "outputs": [
    {
     "data": {
      "text/html": [
       "<div>\n",
       "<style scoped>\n",
       "    .dataframe tbody tr th:only-of-type {\n",
       "        vertical-align: middle;\n",
       "    }\n",
       "\n",
       "    .dataframe tbody tr th {\n",
       "        vertical-align: top;\n",
       "    }\n",
       "\n",
       "    .dataframe thead th {\n",
       "        text-align: right;\n",
       "    }\n",
       "</style>\n",
       "<table border=\"1\" class=\"dataframe\">\n",
       "  <thead>\n",
       "    <tr style=\"text-align: right;\">\n",
       "      <th></th>\n",
       "      <th>Attrition</th>\n",
       "      <th>Business Travel</th>\n",
       "      <th>CF_age band</th>\n",
       "      <th>CF_attrition label</th>\n",
       "      <th>Department</th>\n",
       "      <th>Education Field</th>\n",
       "      <th>emp no</th>\n",
       "      <th>Employee Number</th>\n",
       "      <th>Gender</th>\n",
       "      <th>Job Role</th>\n",
       "      <th>...</th>\n",
       "      <th>Performance Rating</th>\n",
       "      <th>Relationship Satisfaction</th>\n",
       "      <th>Standard Hours</th>\n",
       "      <th>Stock Option Level</th>\n",
       "      <th>Total Working Years</th>\n",
       "      <th>Work Life Balance</th>\n",
       "      <th>Years At Company</th>\n",
       "      <th>Years In Current Role</th>\n",
       "      <th>Years Since Last Promotion</th>\n",
       "      <th>Years With Curr Manager</th>\n",
       "    </tr>\n",
       "  </thead>\n",
       "  <tbody>\n",
       "    <tr>\n",
       "      <th>0</th>\n",
       "      <td>Yes</td>\n",
       "      <td>Travel_Rarely</td>\n",
       "      <td>35 - 44</td>\n",
       "      <td>Ex-Employees</td>\n",
       "      <td>Sales</td>\n",
       "      <td>Life Sciences</td>\n",
       "      <td>STAFF-1</td>\n",
       "      <td>1</td>\n",
       "      <td>Female</td>\n",
       "      <td>Sales Executive</td>\n",
       "      <td>...</td>\n",
       "      <td>3</td>\n",
       "      <td>1</td>\n",
       "      <td>80</td>\n",
       "      <td>0</td>\n",
       "      <td>8</td>\n",
       "      <td>1</td>\n",
       "      <td>6</td>\n",
       "      <td>4</td>\n",
       "      <td>0</td>\n",
       "      <td>5</td>\n",
       "    </tr>\n",
       "    <tr>\n",
       "      <th>1</th>\n",
       "      <td>No</td>\n",
       "      <td>Travel_Frequently</td>\n",
       "      <td>45 - 54</td>\n",
       "      <td>Current Employees</td>\n",
       "      <td>R&amp;D</td>\n",
       "      <td>Life Sciences</td>\n",
       "      <td>STAFF-2</td>\n",
       "      <td>2</td>\n",
       "      <td>Male</td>\n",
       "      <td>Research Scientist</td>\n",
       "      <td>...</td>\n",
       "      <td>4</td>\n",
       "      <td>4</td>\n",
       "      <td>80</td>\n",
       "      <td>1</td>\n",
       "      <td>10</td>\n",
       "      <td>3</td>\n",
       "      <td>10</td>\n",
       "      <td>7</td>\n",
       "      <td>1</td>\n",
       "      <td>7</td>\n",
       "    </tr>\n",
       "    <tr>\n",
       "      <th>2</th>\n",
       "      <td>Yes</td>\n",
       "      <td>Travel_Rarely</td>\n",
       "      <td>35 - 44</td>\n",
       "      <td>Ex-Employees</td>\n",
       "      <td>R&amp;D</td>\n",
       "      <td>Other</td>\n",
       "      <td>STAFF-4</td>\n",
       "      <td>4</td>\n",
       "      <td>Male</td>\n",
       "      <td>Laboratory Technician</td>\n",
       "      <td>...</td>\n",
       "      <td>3</td>\n",
       "      <td>2</td>\n",
       "      <td>80</td>\n",
       "      <td>0</td>\n",
       "      <td>7</td>\n",
       "      <td>3</td>\n",
       "      <td>0</td>\n",
       "      <td>0</td>\n",
       "      <td>0</td>\n",
       "      <td>0</td>\n",
       "    </tr>\n",
       "    <tr>\n",
       "      <th>3</th>\n",
       "      <td>No</td>\n",
       "      <td>Travel_Frequently</td>\n",
       "      <td>25 - 34</td>\n",
       "      <td>Current Employees</td>\n",
       "      <td>R&amp;D</td>\n",
       "      <td>Life Sciences</td>\n",
       "      <td>STAFF-5</td>\n",
       "      <td>5</td>\n",
       "      <td>Female</td>\n",
       "      <td>Research Scientist</td>\n",
       "      <td>...</td>\n",
       "      <td>3</td>\n",
       "      <td>3</td>\n",
       "      <td>80</td>\n",
       "      <td>0</td>\n",
       "      <td>8</td>\n",
       "      <td>3</td>\n",
       "      <td>8</td>\n",
       "      <td>7</td>\n",
       "      <td>3</td>\n",
       "      <td>0</td>\n",
       "    </tr>\n",
       "    <tr>\n",
       "      <th>4</th>\n",
       "      <td>No</td>\n",
       "      <td>Travel_Rarely</td>\n",
       "      <td>25 - 34</td>\n",
       "      <td>Current Employees</td>\n",
       "      <td>R&amp;D</td>\n",
       "      <td>Medical</td>\n",
       "      <td>STAFF-7</td>\n",
       "      <td>7</td>\n",
       "      <td>Male</td>\n",
       "      <td>Laboratory Technician</td>\n",
       "      <td>...</td>\n",
       "      <td>3</td>\n",
       "      <td>4</td>\n",
       "      <td>80</td>\n",
       "      <td>1</td>\n",
       "      <td>6</td>\n",
       "      <td>3</td>\n",
       "      <td>2</td>\n",
       "      <td>2</td>\n",
       "      <td>2</td>\n",
       "      <td>2</td>\n",
       "    </tr>\n",
       "  </tbody>\n",
       "</table>\n",
       "<p>5 rows × 41 columns</p>\n",
       "</div>"
      ],
      "text/plain": [
       "  Attrition    Business Travel CF_age band CF_attrition label Department  \\\n",
       "0       Yes      Travel_Rarely     35 - 44       Ex-Employees      Sales   \n",
       "1        No  Travel_Frequently     45 - 54  Current Employees        R&D   \n",
       "2       Yes      Travel_Rarely     35 - 44       Ex-Employees        R&D   \n",
       "3        No  Travel_Frequently     25 - 34  Current Employees        R&D   \n",
       "4        No      Travel_Rarely     25 - 34  Current Employees        R&D   \n",
       "\n",
       "  Education Field   emp no  Employee Number  Gender               Job Role  \\\n",
       "0   Life Sciences  STAFF-1                1  Female        Sales Executive   \n",
       "1   Life Sciences  STAFF-2                2    Male     Research Scientist   \n",
       "2           Other  STAFF-4                4    Male  Laboratory Technician   \n",
       "3   Life Sciences  STAFF-5                5  Female     Research Scientist   \n",
       "4         Medical  STAFF-7                7    Male  Laboratory Technician   \n",
       "\n",
       "   ... Performance Rating Relationship Satisfaction Standard Hours  \\\n",
       "0  ...                  3                         1             80   \n",
       "1  ...                  4                         4             80   \n",
       "2  ...                  3                         2             80   \n",
       "3  ...                  3                         3             80   \n",
       "4  ...                  3                         4             80   \n",
       "\n",
       "   Stock Option Level  Total Working Years  Work Life Balance  \\\n",
       "0                   0                    8                  1   \n",
       "1                   1                   10                  3   \n",
       "2                   0                    7                  3   \n",
       "3                   0                    8                  3   \n",
       "4                   1                    6                  3   \n",
       "\n",
       "   Years At Company  Years In Current Role  Years Since Last Promotion  \\\n",
       "0                 6                      4                           0   \n",
       "1                10                      7                           1   \n",
       "2                 0                      0                           0   \n",
       "3                 8                      7                           3   \n",
       "4                 2                      2                           2   \n",
       "\n",
       "   Years With Curr Manager  \n",
       "0                        5  \n",
       "1                        7  \n",
       "2                        0  \n",
       "3                        0  \n",
       "4                        2  \n",
       "\n",
       "[5 rows x 41 columns]"
      ]
     },
     "execution_count": 21,
     "metadata": {},
     "output_type": "execute_result"
    }
   ],
   "source": [
    "df.head()"
   ]
  },
  {
   "cell_type": "code",
   "execution_count": 22,
   "id": "5696ae3c",
   "metadata": {},
   "outputs": [
    {
     "name": "stdout",
     "output_type": "stream",
     "text": [
      "<class 'pandas.core.frame.DataFrame'>\n",
      "RangeIndex: 1470 entries, 0 to 1469\n",
      "Data columns (total 41 columns):\n",
      " #   Column                      Non-Null Count  Dtype \n",
      "---  ------                      --------------  ----- \n",
      " 0   Attrition                   1470 non-null   object\n",
      " 1   Business Travel             1470 non-null   object\n",
      " 2   CF_age band                 1470 non-null   object\n",
      " 3   CF_attrition label          1470 non-null   object\n",
      " 4   Department                  1470 non-null   object\n",
      " 5   Education Field             1470 non-null   object\n",
      " 6   emp no                      1470 non-null   object\n",
      " 7   Employee Number             1470 non-null   int64 \n",
      " 8   Gender                      1470 non-null   object\n",
      " 9   Job Role                    1470 non-null   object\n",
      " 10  Marital Status              1470 non-null   object\n",
      " 11  Over Time                   1470 non-null   object\n",
      " 12  Over18                      1470 non-null   object\n",
      " 13  Training Times Last Year    1470 non-null   int64 \n",
      " 14  -2                          1470 non-null   int64 \n",
      " 15  0                           1470 non-null   int64 \n",
      " 16  Age                         1470 non-null   int64 \n",
      " 17  CF_current Employee         1470 non-null   int64 \n",
      " 18  Daily Rate                  1470 non-null   int64 \n",
      " 19  Distance From Home          1470 non-null   int64 \n",
      " 20  Education                   1470 non-null   object\n",
      " 21  Employee Count              1470 non-null   int64 \n",
      " 22  Environment Satisfaction    1470 non-null   int64 \n",
      " 23  Hourly Rate                 1470 non-null   int64 \n",
      " 24  Job Involvement             1470 non-null   int64 \n",
      " 25  Job Level                   1470 non-null   int64 \n",
      " 26  Job Satisfaction            1470 non-null   int64 \n",
      " 27  Monthly Income              1470 non-null   int64 \n",
      " 28  Monthly Rate                1470 non-null   int64 \n",
      " 29  Num Companies Worked        1470 non-null   int64 \n",
      " 30  Percent Salary Hike         1470 non-null   int64 \n",
      " 31  Performance Rating          1470 non-null   int64 \n",
      " 32  Relationship Satisfaction   1470 non-null   int64 \n",
      " 33  Standard Hours              1470 non-null   int64 \n",
      " 34  Stock Option Level          1470 non-null   int64 \n",
      " 35  Total Working Years         1470 non-null   int64 \n",
      " 36  Work Life Balance           1470 non-null   int64 \n",
      " 37  Years At Company            1470 non-null   int64 \n",
      " 38  Years In Current Role       1470 non-null   int64 \n",
      " 39  Years Since Last Promotion  1470 non-null   int64 \n",
      " 40  Years With Curr Manager     1470 non-null   int64 \n",
      "dtypes: int64(28), object(13)\n",
      "memory usage: 471.0+ KB\n"
     ]
    }
   ],
   "source": [
    "df.info()"
   ]
  },
  {
   "cell_type": "code",
   "execution_count": 23,
   "id": "9f3a98b3",
   "metadata": {},
   "outputs": [
    {
     "data": {
      "text/html": [
       "<div>\n",
       "<style scoped>\n",
       "    .dataframe tbody tr th:only-of-type {\n",
       "        vertical-align: middle;\n",
       "    }\n",
       "\n",
       "    .dataframe tbody tr th {\n",
       "        vertical-align: top;\n",
       "    }\n",
       "\n",
       "    .dataframe thead th {\n",
       "        text-align: right;\n",
       "    }\n",
       "</style>\n",
       "<table border=\"1\" class=\"dataframe\">\n",
       "  <thead>\n",
       "    <tr style=\"text-align: right;\">\n",
       "      <th></th>\n",
       "      <th>Employee Number</th>\n",
       "      <th>Training Times Last Year</th>\n",
       "      <th>-2</th>\n",
       "      <th>0</th>\n",
       "      <th>Age</th>\n",
       "      <th>CF_current Employee</th>\n",
       "      <th>Daily Rate</th>\n",
       "      <th>Distance From Home</th>\n",
       "      <th>Employee Count</th>\n",
       "      <th>Environment Satisfaction</th>\n",
       "      <th>...</th>\n",
       "      <th>Performance Rating</th>\n",
       "      <th>Relationship Satisfaction</th>\n",
       "      <th>Standard Hours</th>\n",
       "      <th>Stock Option Level</th>\n",
       "      <th>Total Working Years</th>\n",
       "      <th>Work Life Balance</th>\n",
       "      <th>Years At Company</th>\n",
       "      <th>Years In Current Role</th>\n",
       "      <th>Years Since Last Promotion</th>\n",
       "      <th>Years With Curr Manager</th>\n",
       "    </tr>\n",
       "  </thead>\n",
       "  <tbody>\n",
       "    <tr>\n",
       "      <th>count</th>\n",
       "      <td>1470.000000</td>\n",
       "      <td>1470.000000</td>\n",
       "      <td>1470.0</td>\n",
       "      <td>1470.0</td>\n",
       "      <td>1470.000000</td>\n",
       "      <td>1470.000000</td>\n",
       "      <td>1470.000000</td>\n",
       "      <td>1470.000000</td>\n",
       "      <td>1470.0</td>\n",
       "      <td>1470.000000</td>\n",
       "      <td>...</td>\n",
       "      <td>1470.000000</td>\n",
       "      <td>1470.000000</td>\n",
       "      <td>1470.0</td>\n",
       "      <td>1470.000000</td>\n",
       "      <td>1470.000000</td>\n",
       "      <td>1470.000000</td>\n",
       "      <td>1470.000000</td>\n",
       "      <td>1470.000000</td>\n",
       "      <td>1470.000000</td>\n",
       "      <td>1470.000000</td>\n",
       "    </tr>\n",
       "    <tr>\n",
       "      <th>mean</th>\n",
       "      <td>1024.865306</td>\n",
       "      <td>2.799320</td>\n",
       "      <td>-2.0</td>\n",
       "      <td>0.0</td>\n",
       "      <td>36.923810</td>\n",
       "      <td>0.838776</td>\n",
       "      <td>802.485714</td>\n",
       "      <td>9.192517</td>\n",
       "      <td>1.0</td>\n",
       "      <td>2.721769</td>\n",
       "      <td>...</td>\n",
       "      <td>3.153741</td>\n",
       "      <td>2.712245</td>\n",
       "      <td>80.0</td>\n",
       "      <td>0.793878</td>\n",
       "      <td>11.279592</td>\n",
       "      <td>2.761224</td>\n",
       "      <td>7.008163</td>\n",
       "      <td>4.229252</td>\n",
       "      <td>2.187755</td>\n",
       "      <td>4.123129</td>\n",
       "    </tr>\n",
       "    <tr>\n",
       "      <th>std</th>\n",
       "      <td>602.024335</td>\n",
       "      <td>1.289271</td>\n",
       "      <td>0.0</td>\n",
       "      <td>0.0</td>\n",
       "      <td>9.135373</td>\n",
       "      <td>0.367863</td>\n",
       "      <td>403.509100</td>\n",
       "      <td>8.106864</td>\n",
       "      <td>0.0</td>\n",
       "      <td>1.093082</td>\n",
       "      <td>...</td>\n",
       "      <td>0.360824</td>\n",
       "      <td>1.081209</td>\n",
       "      <td>0.0</td>\n",
       "      <td>0.852077</td>\n",
       "      <td>7.780782</td>\n",
       "      <td>0.706476</td>\n",
       "      <td>6.126525</td>\n",
       "      <td>3.623137</td>\n",
       "      <td>3.222430</td>\n",
       "      <td>3.568136</td>\n",
       "    </tr>\n",
       "    <tr>\n",
       "      <th>min</th>\n",
       "      <td>1.000000</td>\n",
       "      <td>0.000000</td>\n",
       "      <td>-2.0</td>\n",
       "      <td>0.0</td>\n",
       "      <td>18.000000</td>\n",
       "      <td>0.000000</td>\n",
       "      <td>102.000000</td>\n",
       "      <td>1.000000</td>\n",
       "      <td>1.0</td>\n",
       "      <td>1.000000</td>\n",
       "      <td>...</td>\n",
       "      <td>3.000000</td>\n",
       "      <td>1.000000</td>\n",
       "      <td>80.0</td>\n",
       "      <td>0.000000</td>\n",
       "      <td>0.000000</td>\n",
       "      <td>1.000000</td>\n",
       "      <td>0.000000</td>\n",
       "      <td>0.000000</td>\n",
       "      <td>0.000000</td>\n",
       "      <td>0.000000</td>\n",
       "    </tr>\n",
       "    <tr>\n",
       "      <th>25%</th>\n",
       "      <td>491.250000</td>\n",
       "      <td>2.000000</td>\n",
       "      <td>-2.0</td>\n",
       "      <td>0.0</td>\n",
       "      <td>30.000000</td>\n",
       "      <td>1.000000</td>\n",
       "      <td>465.000000</td>\n",
       "      <td>2.000000</td>\n",
       "      <td>1.0</td>\n",
       "      <td>2.000000</td>\n",
       "      <td>...</td>\n",
       "      <td>3.000000</td>\n",
       "      <td>2.000000</td>\n",
       "      <td>80.0</td>\n",
       "      <td>0.000000</td>\n",
       "      <td>6.000000</td>\n",
       "      <td>2.000000</td>\n",
       "      <td>3.000000</td>\n",
       "      <td>2.000000</td>\n",
       "      <td>0.000000</td>\n",
       "      <td>2.000000</td>\n",
       "    </tr>\n",
       "    <tr>\n",
       "      <th>50%</th>\n",
       "      <td>1020.500000</td>\n",
       "      <td>3.000000</td>\n",
       "      <td>-2.0</td>\n",
       "      <td>0.0</td>\n",
       "      <td>36.000000</td>\n",
       "      <td>1.000000</td>\n",
       "      <td>802.000000</td>\n",
       "      <td>7.000000</td>\n",
       "      <td>1.0</td>\n",
       "      <td>3.000000</td>\n",
       "      <td>...</td>\n",
       "      <td>3.000000</td>\n",
       "      <td>3.000000</td>\n",
       "      <td>80.0</td>\n",
       "      <td>1.000000</td>\n",
       "      <td>10.000000</td>\n",
       "      <td>3.000000</td>\n",
       "      <td>5.000000</td>\n",
       "      <td>3.000000</td>\n",
       "      <td>1.000000</td>\n",
       "      <td>3.000000</td>\n",
       "    </tr>\n",
       "    <tr>\n",
       "      <th>75%</th>\n",
       "      <td>1555.750000</td>\n",
       "      <td>3.000000</td>\n",
       "      <td>-2.0</td>\n",
       "      <td>0.0</td>\n",
       "      <td>43.000000</td>\n",
       "      <td>1.000000</td>\n",
       "      <td>1157.000000</td>\n",
       "      <td>14.000000</td>\n",
       "      <td>1.0</td>\n",
       "      <td>4.000000</td>\n",
       "      <td>...</td>\n",
       "      <td>3.000000</td>\n",
       "      <td>4.000000</td>\n",
       "      <td>80.0</td>\n",
       "      <td>1.000000</td>\n",
       "      <td>15.000000</td>\n",
       "      <td>3.000000</td>\n",
       "      <td>9.000000</td>\n",
       "      <td>7.000000</td>\n",
       "      <td>3.000000</td>\n",
       "      <td>7.000000</td>\n",
       "    </tr>\n",
       "    <tr>\n",
       "      <th>max</th>\n",
       "      <td>2068.000000</td>\n",
       "      <td>6.000000</td>\n",
       "      <td>-2.0</td>\n",
       "      <td>0.0</td>\n",
       "      <td>60.000000</td>\n",
       "      <td>1.000000</td>\n",
       "      <td>1499.000000</td>\n",
       "      <td>29.000000</td>\n",
       "      <td>1.0</td>\n",
       "      <td>4.000000</td>\n",
       "      <td>...</td>\n",
       "      <td>4.000000</td>\n",
       "      <td>4.000000</td>\n",
       "      <td>80.0</td>\n",
       "      <td>3.000000</td>\n",
       "      <td>40.000000</td>\n",
       "      <td>4.000000</td>\n",
       "      <td>40.000000</td>\n",
       "      <td>18.000000</td>\n",
       "      <td>15.000000</td>\n",
       "      <td>17.000000</td>\n",
       "    </tr>\n",
       "  </tbody>\n",
       "</table>\n",
       "<p>8 rows × 28 columns</p>\n",
       "</div>"
      ],
      "text/plain": [
       "       Employee Number  Training Times Last Year      -2       0          Age  \\\n",
       "count      1470.000000               1470.000000  1470.0  1470.0  1470.000000   \n",
       "mean       1024.865306                  2.799320    -2.0     0.0    36.923810   \n",
       "std         602.024335                  1.289271     0.0     0.0     9.135373   \n",
       "min           1.000000                  0.000000    -2.0     0.0    18.000000   \n",
       "25%         491.250000                  2.000000    -2.0     0.0    30.000000   \n",
       "50%        1020.500000                  3.000000    -2.0     0.0    36.000000   \n",
       "75%        1555.750000                  3.000000    -2.0     0.0    43.000000   \n",
       "max        2068.000000                  6.000000    -2.0     0.0    60.000000   \n",
       "\n",
       "       CF_current Employee   Daily Rate  Distance From Home  Employee Count  \\\n",
       "count          1470.000000  1470.000000         1470.000000          1470.0   \n",
       "mean              0.838776   802.485714            9.192517             1.0   \n",
       "std               0.367863   403.509100            8.106864             0.0   \n",
       "min               0.000000   102.000000            1.000000             1.0   \n",
       "25%               1.000000   465.000000            2.000000             1.0   \n",
       "50%               1.000000   802.000000            7.000000             1.0   \n",
       "75%               1.000000  1157.000000           14.000000             1.0   \n",
       "max               1.000000  1499.000000           29.000000             1.0   \n",
       "\n",
       "       Environment Satisfaction  ...  Performance Rating  \\\n",
       "count               1470.000000  ...         1470.000000   \n",
       "mean                   2.721769  ...            3.153741   \n",
       "std                    1.093082  ...            0.360824   \n",
       "min                    1.000000  ...            3.000000   \n",
       "25%                    2.000000  ...            3.000000   \n",
       "50%                    3.000000  ...            3.000000   \n",
       "75%                    4.000000  ...            3.000000   \n",
       "max                    4.000000  ...            4.000000   \n",
       "\n",
       "       Relationship Satisfaction  Standard Hours  Stock Option Level  \\\n",
       "count                1470.000000          1470.0         1470.000000   \n",
       "mean                    2.712245            80.0            0.793878   \n",
       "std                     1.081209             0.0            0.852077   \n",
       "min                     1.000000            80.0            0.000000   \n",
       "25%                     2.000000            80.0            0.000000   \n",
       "50%                     3.000000            80.0            1.000000   \n",
       "75%                     4.000000            80.0            1.000000   \n",
       "max                     4.000000            80.0            3.000000   \n",
       "\n",
       "       Total Working Years  Work Life Balance  Years At Company  \\\n",
       "count          1470.000000        1470.000000       1470.000000   \n",
       "mean             11.279592           2.761224          7.008163   \n",
       "std               7.780782           0.706476          6.126525   \n",
       "min               0.000000           1.000000          0.000000   \n",
       "25%               6.000000           2.000000          3.000000   \n",
       "50%              10.000000           3.000000          5.000000   \n",
       "75%              15.000000           3.000000          9.000000   \n",
       "max              40.000000           4.000000         40.000000   \n",
       "\n",
       "       Years In Current Role  Years Since Last Promotion  \\\n",
       "count            1470.000000                 1470.000000   \n",
       "mean                4.229252                    2.187755   \n",
       "std                 3.623137                    3.222430   \n",
       "min                 0.000000                    0.000000   \n",
       "25%                 2.000000                    0.000000   \n",
       "50%                 3.000000                    1.000000   \n",
       "75%                 7.000000                    3.000000   \n",
       "max                18.000000                   15.000000   \n",
       "\n",
       "       Years With Curr Manager  \n",
       "count              1470.000000  \n",
       "mean                  4.123129  \n",
       "std                   3.568136  \n",
       "min                   0.000000  \n",
       "25%                   2.000000  \n",
       "50%                   3.000000  \n",
       "75%                   7.000000  \n",
       "max                  17.000000  \n",
       "\n",
       "[8 rows x 28 columns]"
      ]
     },
     "execution_count": 23,
     "metadata": {},
     "output_type": "execute_result"
    }
   ],
   "source": [
    "df.describe()"
   ]
  },
  {
   "cell_type": "code",
   "execution_count": 24,
   "id": "b0ffe453",
   "metadata": {},
   "outputs": [
    {
     "data": {
      "text/plain": [
       "Attrition                     0\n",
       "Business Travel               0\n",
       "CF_age band                   0\n",
       "CF_attrition label            0\n",
       "Department                    0\n",
       "Education Field               0\n",
       "emp no                        0\n",
       "Employee Number               0\n",
       "Gender                        0\n",
       "Job Role                      0\n",
       "Marital Status                0\n",
       "Over Time                     0\n",
       "Over18                        0\n",
       "Training Times Last Year      0\n",
       "-2                            0\n",
       "0                             0\n",
       "Age                           0\n",
       "CF_current Employee           0\n",
       "Daily Rate                    0\n",
       "Distance From Home            0\n",
       "Education                     0\n",
       "Employee Count                0\n",
       "Environment Satisfaction      0\n",
       "Hourly Rate                   0\n",
       "Job Involvement               0\n",
       "Job Level                     0\n",
       "Job Satisfaction              0\n",
       "Monthly Income                0\n",
       "Monthly Rate                  0\n",
       "Num Companies Worked          0\n",
       "Percent Salary Hike           0\n",
       "Performance Rating            0\n",
       "Relationship Satisfaction     0\n",
       "Standard Hours                0\n",
       "Stock Option Level            0\n",
       "Total Working Years           0\n",
       "Work Life Balance             0\n",
       "Years At Company              0\n",
       "Years In Current Role         0\n",
       "Years Since Last Promotion    0\n",
       "Years With Curr Manager       0\n",
       "dtype: int64"
      ]
     },
     "execution_count": 24,
     "metadata": {},
     "output_type": "execute_result"
    }
   ],
   "source": [
    "df.isnull().sum()"
   ]
  },
  {
   "cell_type": "code",
   "execution_count": 25,
   "id": "6aa85844",
   "metadata": {},
   "outputs": [
    {
     "data": {
      "text/plain": [
       "Index(['Attrition', 'Business Travel', 'CF_age band', 'CF_attrition label',\n",
       "       'Department', 'Education Field', 'emp no', 'Employee Number', 'Gender',\n",
       "       'Job Role', 'Marital Status', 'Over Time', 'Over18',\n",
       "       'Training Times Last Year', '-2', '0', 'Age', 'CF_current Employee',\n",
       "       'Daily Rate', 'Distance From Home', 'Education', 'Employee Count',\n",
       "       'Environment Satisfaction', 'Hourly Rate', 'Job Involvement',\n",
       "       'Job Level', 'Job Satisfaction', 'Monthly Income', 'Monthly Rate',\n",
       "       'Num Companies Worked', 'Percent Salary Hike', 'Performance Rating',\n",
       "       'Relationship Satisfaction', 'Standard Hours', 'Stock Option Level',\n",
       "       'Total Working Years', 'Work Life Balance', 'Years At Company',\n",
       "       'Years In Current Role', 'Years Since Last Promotion',\n",
       "       'Years With Curr Manager'],\n",
       "      dtype='object')"
      ]
     },
     "execution_count": 25,
     "metadata": {},
     "output_type": "execute_result"
    }
   ],
   "source": [
    "df.columns"
   ]
  },
  {
   "cell_type": "code",
   "execution_count": 26,
   "id": "a8daf5b1",
   "metadata": {},
   "outputs": [
    {
     "data": {
      "text/plain": [
       "(1470, 41)"
      ]
     },
     "execution_count": 26,
     "metadata": {},
     "output_type": "execute_result"
    }
   ],
   "source": [
    "df.shape"
   ]
  },
  {
   "cell_type": "markdown",
   "id": "504ebdfc",
   "metadata": {},
   "source": [
    "## Creating KPIs"
   ]
  },
  {
   "cell_type": "code",
   "execution_count": 27,
   "id": "87449a09",
   "metadata": {},
   "outputs": [],
   "source": [
    "#Total Employees\n",
    "df['Total_Emplyees'] = df['Employee Count'].sum()"
   ]
  },
  {
   "cell_type": "code",
   "execution_count": 28,
   "id": "fa59f74a",
   "metadata": {},
   "outputs": [
    {
     "data": {
      "text/plain": [
       "1470"
      ]
     },
     "execution_count": 28,
     "metadata": {},
     "output_type": "execute_result"
    }
   ],
   "source": [
    "total_employees = df['Total_Emplyees'].count()\n",
    "total_employees"
   ]
  },
  {
   "cell_type": "code",
   "execution_count": 29,
   "id": "42ce8b43",
   "metadata": {},
   "outputs": [
    {
     "data": {
      "text/html": [
       "<div>\n",
       "<style scoped>\n",
       "    .dataframe tbody tr th:only-of-type {\n",
       "        vertical-align: middle;\n",
       "    }\n",
       "\n",
       "    .dataframe tbody tr th {\n",
       "        vertical-align: top;\n",
       "    }\n",
       "\n",
       "    .dataframe thead th {\n",
       "        text-align: right;\n",
       "    }\n",
       "</style>\n",
       "<table border=\"1\" class=\"dataframe\">\n",
       "  <thead>\n",
       "    <tr style=\"text-align: right;\">\n",
       "      <th></th>\n",
       "      <th>Attrition</th>\n",
       "      <th>Business Travel</th>\n",
       "      <th>CF_age band</th>\n",
       "      <th>CF_attrition label</th>\n",
       "      <th>Department</th>\n",
       "      <th>Education Field</th>\n",
       "      <th>emp no</th>\n",
       "      <th>Employee Number</th>\n",
       "      <th>Gender</th>\n",
       "      <th>Job Role</th>\n",
       "      <th>...</th>\n",
       "      <th>Standard Hours</th>\n",
       "      <th>Stock Option Level</th>\n",
       "      <th>Total Working Years</th>\n",
       "      <th>Work Life Balance</th>\n",
       "      <th>Years At Company</th>\n",
       "      <th>Years In Current Role</th>\n",
       "      <th>Years Since Last Promotion</th>\n",
       "      <th>Years With Curr Manager</th>\n",
       "      <th>Total_Emplyees</th>\n",
       "      <th>Attrition_Count</th>\n",
       "    </tr>\n",
       "  </thead>\n",
       "  <tbody>\n",
       "    <tr>\n",
       "      <th>0</th>\n",
       "      <td>Yes</td>\n",
       "      <td>Travel_Rarely</td>\n",
       "      <td>35 - 44</td>\n",
       "      <td>Ex-Employees</td>\n",
       "      <td>Sales</td>\n",
       "      <td>Life Sciences</td>\n",
       "      <td>STAFF-1</td>\n",
       "      <td>1</td>\n",
       "      <td>Female</td>\n",
       "      <td>Sales Executive</td>\n",
       "      <td>...</td>\n",
       "      <td>80</td>\n",
       "      <td>0</td>\n",
       "      <td>8</td>\n",
       "      <td>1</td>\n",
       "      <td>6</td>\n",
       "      <td>4</td>\n",
       "      <td>0</td>\n",
       "      <td>5</td>\n",
       "      <td>1470</td>\n",
       "      <td>1.0</td>\n",
       "    </tr>\n",
       "    <tr>\n",
       "      <th>1</th>\n",
       "      <td>No</td>\n",
       "      <td>Travel_Frequently</td>\n",
       "      <td>45 - 54</td>\n",
       "      <td>Current Employees</td>\n",
       "      <td>R&amp;D</td>\n",
       "      <td>Life Sciences</td>\n",
       "      <td>STAFF-2</td>\n",
       "      <td>2</td>\n",
       "      <td>Male</td>\n",
       "      <td>Research Scientist</td>\n",
       "      <td>...</td>\n",
       "      <td>80</td>\n",
       "      <td>1</td>\n",
       "      <td>10</td>\n",
       "      <td>3</td>\n",
       "      <td>10</td>\n",
       "      <td>7</td>\n",
       "      <td>1</td>\n",
       "      <td>7</td>\n",
       "      <td>1470</td>\n",
       "      <td>0.0</td>\n",
       "    </tr>\n",
       "    <tr>\n",
       "      <th>2</th>\n",
       "      <td>Yes</td>\n",
       "      <td>Travel_Rarely</td>\n",
       "      <td>35 - 44</td>\n",
       "      <td>Ex-Employees</td>\n",
       "      <td>R&amp;D</td>\n",
       "      <td>Other</td>\n",
       "      <td>STAFF-4</td>\n",
       "      <td>4</td>\n",
       "      <td>Male</td>\n",
       "      <td>Laboratory Technician</td>\n",
       "      <td>...</td>\n",
       "      <td>80</td>\n",
       "      <td>0</td>\n",
       "      <td>7</td>\n",
       "      <td>3</td>\n",
       "      <td>0</td>\n",
       "      <td>0</td>\n",
       "      <td>0</td>\n",
       "      <td>0</td>\n",
       "      <td>1470</td>\n",
       "      <td>1.0</td>\n",
       "    </tr>\n",
       "    <tr>\n",
       "      <th>3</th>\n",
       "      <td>No</td>\n",
       "      <td>Travel_Frequently</td>\n",
       "      <td>25 - 34</td>\n",
       "      <td>Current Employees</td>\n",
       "      <td>R&amp;D</td>\n",
       "      <td>Life Sciences</td>\n",
       "      <td>STAFF-5</td>\n",
       "      <td>5</td>\n",
       "      <td>Female</td>\n",
       "      <td>Research Scientist</td>\n",
       "      <td>...</td>\n",
       "      <td>80</td>\n",
       "      <td>0</td>\n",
       "      <td>8</td>\n",
       "      <td>3</td>\n",
       "      <td>8</td>\n",
       "      <td>7</td>\n",
       "      <td>3</td>\n",
       "      <td>0</td>\n",
       "      <td>1470</td>\n",
       "      <td>0.0</td>\n",
       "    </tr>\n",
       "    <tr>\n",
       "      <th>4</th>\n",
       "      <td>No</td>\n",
       "      <td>Travel_Rarely</td>\n",
       "      <td>25 - 34</td>\n",
       "      <td>Current Employees</td>\n",
       "      <td>R&amp;D</td>\n",
       "      <td>Medical</td>\n",
       "      <td>STAFF-7</td>\n",
       "      <td>7</td>\n",
       "      <td>Male</td>\n",
       "      <td>Laboratory Technician</td>\n",
       "      <td>...</td>\n",
       "      <td>80</td>\n",
       "      <td>1</td>\n",
       "      <td>6</td>\n",
       "      <td>3</td>\n",
       "      <td>2</td>\n",
       "      <td>2</td>\n",
       "      <td>2</td>\n",
       "      <td>2</td>\n",
       "      <td>1470</td>\n",
       "      <td>0.0</td>\n",
       "    </tr>\n",
       "  </tbody>\n",
       "</table>\n",
       "<p>5 rows × 43 columns</p>\n",
       "</div>"
      ],
      "text/plain": [
       "  Attrition    Business Travel CF_age band CF_attrition label Department  \\\n",
       "0       Yes      Travel_Rarely     35 - 44       Ex-Employees      Sales   \n",
       "1        No  Travel_Frequently     45 - 54  Current Employees        R&D   \n",
       "2       Yes      Travel_Rarely     35 - 44       Ex-Employees        R&D   \n",
       "3        No  Travel_Frequently     25 - 34  Current Employees        R&D   \n",
       "4        No      Travel_Rarely     25 - 34  Current Employees        R&D   \n",
       "\n",
       "  Education Field   emp no  Employee Number  Gender               Job Role  \\\n",
       "0   Life Sciences  STAFF-1                1  Female        Sales Executive   \n",
       "1   Life Sciences  STAFF-2                2    Male     Research Scientist   \n",
       "2           Other  STAFF-4                4    Male  Laboratory Technician   \n",
       "3   Life Sciences  STAFF-5                5  Female     Research Scientist   \n",
       "4         Medical  STAFF-7                7    Male  Laboratory Technician   \n",
       "\n",
       "   ... Standard Hours Stock Option Level Total Working Years  \\\n",
       "0  ...             80                  0                   8   \n",
       "1  ...             80                  1                  10   \n",
       "2  ...             80                  0                   7   \n",
       "3  ...             80                  0                   8   \n",
       "4  ...             80                  1                   6   \n",
       "\n",
       "   Work Life Balance  Years At Company  Years In Current Role  \\\n",
       "0                  1                 6                      4   \n",
       "1                  3                10                      7   \n",
       "2                  3                 0                      0   \n",
       "3                  3                 8                      7   \n",
       "4                  3                 2                      2   \n",
       "\n",
       "   Years Since Last Promotion  Years With Curr Manager  Total_Emplyees  \\\n",
       "0                           0                        5            1470   \n",
       "1                           1                        7            1470   \n",
       "2                           0                        0            1470   \n",
       "3                           3                        0            1470   \n",
       "4                           2                        2            1470   \n",
       "\n",
       "   Attrition_Count  \n",
       "0              1.0  \n",
       "1              0.0  \n",
       "2              1.0  \n",
       "3              0.0  \n",
       "4              0.0  \n",
       "\n",
       "[5 rows x 43 columns]"
      ]
     },
     "execution_count": 29,
     "metadata": {},
     "output_type": "execute_result"
    }
   ],
   "source": [
    "# creating new conditional column to find attrition count\n",
    "df.loc[df['Attrition']=='Yes','Attrition_Count'] = 1\n",
    "df.loc[df['Attrition']=='No','Attrition_Count'] = 0\n",
    "\n",
    "df.head()"
   ]
  },
  {
   "cell_type": "code",
   "execution_count": 30,
   "id": "548a7007",
   "metadata": {},
   "outputs": [
    {
     "data": {
      "text/plain": [
       "237.0"
      ]
     },
     "execution_count": 30,
     "metadata": {},
     "output_type": "execute_result"
    }
   ],
   "source": [
    "# Atrrition Count\n",
    "attrition_count = df['Attrition_Count'].sum()\n",
    "attrition_count"
   ]
  },
  {
   "cell_type": "code",
   "execution_count": 31,
   "id": "3b185dc7",
   "metadata": {},
   "outputs": [
    {
     "data": {
      "text/plain": [
       "16.122448979591837"
      ]
     },
     "execution_count": 31,
     "metadata": {},
     "output_type": "execute_result"
    }
   ],
   "source": [
    "# Attrition Rate\n",
    "attrition_count/total_employees*100"
   ]
  },
  {
   "cell_type": "code",
   "execution_count": 32,
   "id": "b6ea592f",
   "metadata": {},
   "outputs": [
    {
     "data": {
      "text/plain": [
       "36.923809523809524"
      ]
     },
     "execution_count": 32,
     "metadata": {},
     "output_type": "execute_result"
    }
   ],
   "source": [
    "#Average Age\n",
    "df['Age'].mean()"
   ]
  },
  {
   "cell_type": "markdown",
   "id": "3b94b61c",
   "metadata": {},
   "source": [
    "## EDA"
   ]
  },
  {
   "cell_type": "code",
   "execution_count": 33,
   "id": "1096bd9f",
   "metadata": {},
   "outputs": [
    {
     "data": {
      "text/plain": [
       "<Axes: xlabel='Job Satisfaction', ylabel='Count'>"
      ]
     },
     "execution_count": 33,
     "metadata": {},
     "output_type": "execute_result"
    },
    {
     "data": {
      "image/png": "[encoded data removed]",
      "text/plain": [
       "<Figure size 1500x3000 with 6 Axes>"
      ]
     },
     "metadata": {},
     "output_type": "display_data"
    }
   ],
   "source": [
    "# creating histograms\n",
    "plt.figure(figsize = (15,30))\n",
    "plt.subplot(6,3,1)\n",
    "sns.histplot(data=df, x='Age')\n",
    "\n",
    "plt.subplot(6,3,2)\n",
    "sns.histplot(data=df, x='Monthly Income')\n",
    "\n",
    "plt.subplot(6,3,3)\n",
    "sns.histplot(data=df, x='Years At Company')\n",
    "\n",
    "plt.subplot(6,3,4)\n",
    "sns.histplot(data=df, x='Total Working Years')\n",
    "\n",
    "plt.subplot(6,3,5)\n",
    "sns.histplot(data=df, x='Work Life Balance')\n",
    "\n",
    "plt.subplot(6,3,6)\n",
    "sns.histplot(data=df, x='Job Satisfaction')"
   ]
  },
  {
   "cell_type": "markdown",
   "id": "c19253ce",
   "metadata": {},
   "source": [
    "* Insights\n",
    "\n",
    "- Most employees Age is between 25 to 40\n",
    "- Most employees Monthly Income is less than 5000\n",
    "- Most employees Years At Company is less than 10 years\n",
    "- Most employees Total Working Years is less than 10 years\n",
    "- Most employees Work Life Balance ratings is 3\n",
    "- Most employees Job Satisfaction ratings are 3 & 4"
   ]
  },
  {
   "cell_type": "code",
   "execution_count": 36,
   "id": "2a3efdd0",
   "metadata": {},
   "outputs": [
    {
     "data": {
      "text/plain": [
       "<Axes: xlabel='Department', ylabel='Attrition_Count'>"
      ]
     },
     "execution_count": 36,
     "metadata": {},
     "output_type": "execute_result"
    },
    {
     "data": {
      "image/png": "[encoded data removed]",
      "text/plain": [
       "<Figure size 500x500 with 1 Axes>"
      ]
     },
     "metadata": {},
     "output_type": "display_data"
    }
   ],
   "source": [
    "# Attrition Count by Department\n",
    "\n",
    "plt.figure(figsize = (5,5))\n",
    "sns.barplot(df, x=\"Department\", y=\"Attrition_Count\", hue = 'Gender', palette = 'Set1')"
   ]
  },
  {
   "cell_type": "markdown",
   "id": "f2eac916",
   "metadata": {},
   "source": [
    "* Insights\n",
    "- "
   ]
  },
  {
   "cell_type": "code",
   "execution_count": 37,
   "id": "18604280",
   "metadata": {},
   "outputs": [
    {
     "data": {
      "text/plain": [
       "<Axes: xlabel='CF_age band', ylabel='Attrition_Count'>"
      ]
     },
     "execution_count": 37,
     "metadata": {},
     "output_type": "execute_result"
    },
    {
     "data": {
      "image/png": "[encoded data removed]",
      "text/plain": [
       "<Figure size 500x500 with 1 Axes>"
      ]
     },
     "metadata": {},
     "output_type": "display_data"
    }
   ],
   "source": [
    "# Attrition Count by Age-Bucket\n",
    "\n",
    "plt.figure(figsize = (5,5))\n",
    "sns.barplot(df, x=\"CF_age band\", y=\"Attrition_Count\", palette = 'Set1')"
   ]
  },
  {
   "cell_type": "markdown",
   "id": "9418be51",
   "metadata": {},
   "source": [
    "* Insights\n",
    "- "
   ]
  },
  {
   "cell_type": "code",
   "execution_count": 38,
   "id": "26133bf4",
   "metadata": {},
   "outputs": [
    {
     "data": {
      "text/plain": [
       "<Axes: xlabel='Education Field', ylabel='Attrition_Count'>"
      ]
     },
     "execution_count": 38,
     "metadata": {},
     "output_type": "execute_result"
    },
    {
     "data": {
      "image/png": "[encoded data removed]",
      "text/plain": [
       "<Figure size 1000x500 with 1 Axes>"
      ]
     },
     "metadata": {},
     "output_type": "display_data"
    }
   ],
   "source": [
    "# Attrition Count by Education Field\n",
    "\n",
    "plt.figure(figsize = (10,5))\n",
    "sns.barplot(df, x=\"Education Field\", y=\"Attrition_Count\", palette = 'Set1')"
   ]
  },
  {
   "cell_type": "markdown",
   "id": "363cd584",
   "metadata": {},
   "source": [
    "* Insights\n",
    "- "
   ]
  },
  {
   "cell_type": "code",
   "execution_count": 39,
   "id": "d5b0d186",
   "metadata": {},
   "outputs": [
    {
     "data": {
      "text/plain": [
       "<Axes: xlabel='Gender', ylabel='Attrition_Count'>"
      ]
     },
     "execution_count": 39,
     "metadata": {},
     "output_type": "execute_result"
    },
    {
     "data": {
      "image/png": "[encoded data removed]",
      "text/plain": [
       "<Figure size 500x500 with 1 Axes>"
      ]
     },
     "metadata": {},
     "output_type": "display_data"
    }
   ],
   "source": [
    "# Attrition Count by Gender\n",
    "\n",
    "plt.figure(figsize = (5,5))\n",
    "sns.barplot(df, x=\"Gender\", y=\"Attrition_Count\", palette = 'Set1')"
   ]
  },
  {
   "cell_type": "markdown",
   "id": "1946427d",
   "metadata": {},
   "source": [
    "* Insights\n",
    "- "
   ]
  },
  {
   "cell_type": "code",
   "execution_count": 40,
   "id": "79110cab",
   "metadata": {},
   "outputs": [
    {
     "data": {
      "text/plain": [
       "<Axes: xlabel='CF_age band', ylabel='Attrition_Count'>"
      ]
     },
     "execution_count": 40,
     "metadata": {},
     "output_type": "execute_result"
    },
    {
     "data": {
      "image/png": "[encoded data removed]",
      "text/plain": [
       "<Figure size 1000x500 with 1 Axes>"
      ]
     },
     "metadata": {},
     "output_type": "display_data"
    }
   ],
   "source": [
    "# Attrition Count by Gender for differnt Age Groups\n",
    "\n",
    "plt.figure(figsize = (10,5))\n",
    "sns.barplot(df, x=\"CF_age band\", y=\"Attrition_Count\",hue='Gender', palette = 'Set1')"
   ]
  },
  {
   "cell_type": "markdown",
   "id": "9296e39a",
   "metadata": {},
   "source": [
    "* Insights\n",
    "- "
   ]
  },
  {
   "cell_type": "code",
   "execution_count": 43,
   "id": "f764140a",
   "metadata": {},
   "outputs": [
    {
     "data": {
      "text/html": [
       "<div>\n",
       "<style scoped>\n",
       "    .dataframe tbody tr th:only-of-type {\n",
       "        vertical-align: middle;\n",
       "    }\n",
       "\n",
       "    .dataframe tbody tr th {\n",
       "        vertical-align: top;\n",
       "    }\n",
       "\n",
       "    .dataframe thead th {\n",
       "        text-align: right;\n",
       "    }\n",
       "</style>\n",
       "<table border=\"1\" class=\"dataframe\">\n",
       "  <thead>\n",
       "    <tr style=\"text-align: right;\">\n",
       "      <th></th>\n",
       "      <th>Attrition</th>\n",
       "      <th>Business Travel</th>\n",
       "      <th>CF_age band</th>\n",
       "      <th>CF_attrition label</th>\n",
       "      <th>Department</th>\n",
       "      <th>Education Field</th>\n",
       "      <th>emp no</th>\n",
       "      <th>Employee Number</th>\n",
       "      <th>Gender</th>\n",
       "      <th>Job Role</th>\n",
       "      <th>...</th>\n",
       "      <th>Stock Option Level</th>\n",
       "      <th>Total Working Years</th>\n",
       "      <th>Work Life Balance</th>\n",
       "      <th>Years At Company</th>\n",
       "      <th>Years In Current Role</th>\n",
       "      <th>Years Since Last Promotion</th>\n",
       "      <th>Years With Curr Manager</th>\n",
       "      <th>Total_Emplyees</th>\n",
       "      <th>Attrition_Count</th>\n",
       "      <th>Monthly_Income_Bucket</th>\n",
       "    </tr>\n",
       "  </thead>\n",
       "  <tbody>\n",
       "    <tr>\n",
       "      <th>0</th>\n",
       "      <td>Yes</td>\n",
       "      <td>Travel_Rarely</td>\n",
       "      <td>35 - 44</td>\n",
       "      <td>Ex-Employees</td>\n",
       "      <td>Sales</td>\n",
       "      <td>Life Sciences</td>\n",
       "      <td>STAFF-1</td>\n",
       "      <td>1</td>\n",
       "      <td>Female</td>\n",
       "      <td>Sales Executive</td>\n",
       "      <td>...</td>\n",
       "      <td>0</td>\n",
       "      <td>8</td>\n",
       "      <td>1</td>\n",
       "      <td>6</td>\n",
       "      <td>4</td>\n",
       "      <td>0</td>\n",
       "      <td>5</td>\n",
       "      <td>1470</td>\n",
       "      <td>1.0</td>\n",
       "      <td>5k-10k</td>\n",
       "    </tr>\n",
       "    <tr>\n",
       "      <th>1</th>\n",
       "      <td>No</td>\n",
       "      <td>Travel_Frequently</td>\n",
       "      <td>45 - 54</td>\n",
       "      <td>Current Employees</td>\n",
       "      <td>R&amp;D</td>\n",
       "      <td>Life Sciences</td>\n",
       "      <td>STAFF-2</td>\n",
       "      <td>2</td>\n",
       "      <td>Male</td>\n",
       "      <td>Research Scientist</td>\n",
       "      <td>...</td>\n",
       "      <td>1</td>\n",
       "      <td>10</td>\n",
       "      <td>3</td>\n",
       "      <td>10</td>\n",
       "      <td>7</td>\n",
       "      <td>1</td>\n",
       "      <td>7</td>\n",
       "      <td>1470</td>\n",
       "      <td>0.0</td>\n",
       "      <td>5k-10k</td>\n",
       "    </tr>\n",
       "    <tr>\n",
       "      <th>2</th>\n",
       "      <td>Yes</td>\n",
       "      <td>Travel_Rarely</td>\n",
       "      <td>35 - 44</td>\n",
       "      <td>Ex-Employees</td>\n",
       "      <td>R&amp;D</td>\n",
       "      <td>Other</td>\n",
       "      <td>STAFF-4</td>\n",
       "      <td>4</td>\n",
       "      <td>Male</td>\n",
       "      <td>Laboratory Technician</td>\n",
       "      <td>...</td>\n",
       "      <td>0</td>\n",
       "      <td>7</td>\n",
       "      <td>3</td>\n",
       "      <td>0</td>\n",
       "      <td>0</td>\n",
       "      <td>0</td>\n",
       "      <td>0</td>\n",
       "      <td>1470</td>\n",
       "      <td>1.0</td>\n",
       "      <td>Less than 5k</td>\n",
       "    </tr>\n",
       "    <tr>\n",
       "      <th>3</th>\n",
       "      <td>No</td>\n",
       "      <td>Travel_Frequently</td>\n",
       "      <td>25 - 34</td>\n",
       "      <td>Current Employees</td>\n",
       "      <td>R&amp;D</td>\n",
       "      <td>Life Sciences</td>\n",
       "      <td>STAFF-5</td>\n",
       "      <td>5</td>\n",
       "      <td>Female</td>\n",
       "      <td>Research Scientist</td>\n",
       "      <td>...</td>\n",
       "      <td>0</td>\n",
       "      <td>8</td>\n",
       "      <td>3</td>\n",
       "      <td>8</td>\n",
       "      <td>7</td>\n",
       "      <td>3</td>\n",
       "      <td>0</td>\n",
       "      <td>1470</td>\n",
       "      <td>0.0</td>\n",
       "      <td>Less than 5k</td>\n",
       "    </tr>\n",
       "    <tr>\n",
       "      <th>4</th>\n",
       "      <td>No</td>\n",
       "      <td>Travel_Rarely</td>\n",
       "      <td>25 - 34</td>\n",
       "      <td>Current Employees</td>\n",
       "      <td>R&amp;D</td>\n",
       "      <td>Medical</td>\n",
       "      <td>STAFF-7</td>\n",
       "      <td>7</td>\n",
       "      <td>Male</td>\n",
       "      <td>Laboratory Technician</td>\n",
       "      <td>...</td>\n",
       "      <td>1</td>\n",
       "      <td>6</td>\n",
       "      <td>3</td>\n",
       "      <td>2</td>\n",
       "      <td>2</td>\n",
       "      <td>2</td>\n",
       "      <td>2</td>\n",
       "      <td>1470</td>\n",
       "      <td>0.0</td>\n",
       "      <td>Less than 5k</td>\n",
       "    </tr>\n",
       "  </tbody>\n",
       "</table>\n",
       "<p>5 rows × 44 columns</p>\n",
       "</div>"
      ],
      "text/plain": [
       "  Attrition    Business Travel CF_age band CF_attrition label Department  \\\n",
       "0       Yes      Travel_Rarely     35 - 44       Ex-Employees      Sales   \n",
       "1        No  Travel_Frequently     45 - 54  Current Employees        R&D   \n",
       "2       Yes      Travel_Rarely     35 - 44       Ex-Employees        R&D   \n",
       "3        No  Travel_Frequently     25 - 34  Current Employees        R&D   \n",
       "4        No      Travel_Rarely     25 - 34  Current Employees        R&D   \n",
       "\n",
       "  Education Field   emp no  Employee Number  Gender               Job Role  \\\n",
       "0   Life Sciences  STAFF-1                1  Female        Sales Executive   \n",
       "1   Life Sciences  STAFF-2                2    Male     Research Scientist   \n",
       "2           Other  STAFF-4                4    Male  Laboratory Technician   \n",
       "3   Life Sciences  STAFF-5                5  Female     Research Scientist   \n",
       "4         Medical  STAFF-7                7    Male  Laboratory Technician   \n",
       "\n",
       "   ... Stock Option Level Total Working Years Work Life Balance  \\\n",
       "0  ...                  0                   8                 1   \n",
       "1  ...                  1                  10                 3   \n",
       "2  ...                  0                   7                 3   \n",
       "3  ...                  0                   8                 3   \n",
       "4  ...                  1                   6                 3   \n",
       "\n",
       "   Years At Company  Years In Current Role  Years Since Last Promotion  \\\n",
       "0                 6                      4                           0   \n",
       "1                10                      7                           1   \n",
       "2                 0                      0                           0   \n",
       "3                 8                      7                           3   \n",
       "4                 2                      2                           2   \n",
       "\n",
       "   Years With Curr Manager  Total_Emplyees  Attrition_Count  \\\n",
       "0                        5            1470              1.0   \n",
       "1                        7            1470              0.0   \n",
       "2                        0            1470              1.0   \n",
       "3                        0            1470              0.0   \n",
       "4                        2            1470              0.0   \n",
       "\n",
       "   Monthly_Income_Bucket  \n",
       "0                 5k-10k  \n",
       "1                 5k-10k  \n",
       "2           Less than 5k  \n",
       "3           Less than 5k  \n",
       "4           Less than 5k  \n",
       "\n",
       "[5 rows x 44 columns]"
      ]
     },
     "execution_count": 43,
     "metadata": {},
     "output_type": "execute_result"
    }
   ],
   "source": [
    "# creating new conditional column Monthly-Income-Bucket\n",
    "\n",
    "df.loc[df['Monthly Income']<=5000,'Monthly_Income_Bucket'] = 'Less than 5k'\n",
    "df.loc[(df['Monthly Income']>=5001) & (df['Monthly Income']<=10000),'Monthly_Income_Bucket'] ='5k-10k'\n",
    "df.loc[(df['Monthly Income']>=10001) & (df['Monthly Income']<=15000),'Monthly_Income_Bucket'] = '10k-15k'\n",
    "df.loc[(df['Monthly Income']>=15001) & (df['Monthly Income']<=20000),'Monthly_Income_Bucket'] = '15k-20k'\n",
    "\n",
    "df.head()"
   ]
  },
  {
   "cell_type": "code",
   "execution_count": 44,
   "id": "f6d7300e",
   "metadata": {},
   "outputs": [
    {
     "data": {
      "text/plain": [
       "<Axes: xlabel='Monthly_Income_Bucket', ylabel='Attrition_Count'>"
      ]
     },
     "execution_count": 44,
     "metadata": {},
     "output_type": "execute_result"
    },
    {
     "data": {
      "image/png": "[encoded data removed]",
      "text/plain": [
       "<Figure size 500x500 with 1 Axes>"
      ]
     },
     "metadata": {},
     "output_type": "display_data"
    }
   ],
   "source": [
    "# Attrition Count by Monthly-Income-Bucket\n",
    "\n",
    "plt.figure(figsize = (5,5))\n",
    "sns.barplot(df, x=\"Monthly_Income_Bucket\", y=\"Attrition_Count\", palette = 'Set1')"
   ]
  },
  {
   "cell_type": "markdown",
   "id": "12861186",
   "metadata": {},
   "source": [
    "* Insights\n",
    "- "
   ]
  },
  {
   "cell_type": "code",
   "execution_count": 45,
   "id": "30664843",
   "metadata": {},
   "outputs": [
    {
     "data": {
      "text/plain": [
       "<Axes: xlabel='Marital Status', ylabel='Attrition_Count'>"
      ]
     },
     "execution_count": 45,
     "metadata": {},
     "output_type": "execute_result"
    },
    {
     "data": {
      "image/png": "[encoded data removed]",
      "text/plain": [
       "<Figure size 500x500 with 1 Axes>"
      ]
     },
     "metadata": {},
     "output_type": "display_data"
    }
   ],
   "source": [
    "plt.figure(figsize = (5,5))\n",
    "sns.barplot(df, x='Marital Status', y=\"Attrition_Count\", hue='Gender', palette = 'Set1')"
   ]
  },
  {
   "cell_type": "markdown",
   "id": "39340df3",
   "metadata": {},
   "source": [
    "* Insights\n",
    "- "
   ]
  },
  {
   "cell_type": "markdown",
   "id": "464b76d0",
   "metadata": {},
   "source": [
    "## Conclusion"
   ]
  },
  {
   "cell_type": "markdown",
   "id": "a178a4b7",
   "metadata": {},
   "source": [
    "-"
   ]
  }
 ],
 "metadata": {
  "kernelspec": {
   "display_name": "Python 3 (ipykernel)",
   "language": "python",
   "name": "python3"
  },
  "language_info": {
   "codemirror_mode": {
    "name": "ipython",
    "version": 3
   },
   "file_extension": ".py",
   "mimetype": "text/x-python",
   "name": "python",
   "nbconvert_exporter": "python",
   "pygments_lexer": "ipython3",
   "version": "3.11.3"
  }
 },
 "nbformat": 4,
 "nbformat_minor": 5
}
